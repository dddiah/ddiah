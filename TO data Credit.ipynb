{
 "cells": [
  {
   "cell_type": "markdown",
   "id": "e0e64dd4",
   "metadata": {},
   "source": [
    "### TO Dataset Credit\n",
    "#### Diah Dwi Cahyanti\n"
   ]
  },
  {
   "cell_type": "code",
   "execution_count": 1,
   "id": "b368bd0a",
   "metadata": {},
   "outputs": [],
   "source": [
    "#import library\n",
    "import pandas as pd\n",
    "import seaborn as sns\n",
    "import matplotlib.pyplot as plt\n",
    "import seaborn as sns\n",
    "\n",
    "from sklearn.model_selection import train_test_split\n",
    "from sklearn.neighbors import KNeighborsRegressor\n",
    "from sklearn.metrics import confusion_matrix, classification_report"
   ]
  },
  {
   "cell_type": "code",
   "execution_count": 2,
   "id": "0e862ed5",
   "metadata": {},
   "outputs": [
    {
     "data": {
      "text/html": [
       "<div>\n",
       "<style scoped>\n",
       "    .dataframe tbody tr th:only-of-type {\n",
       "        vertical-align: middle;\n",
       "    }\n",
       "\n",
       "    .dataframe tbody tr th {\n",
       "        vertical-align: top;\n",
       "    }\n",
       "\n",
       "    .dataframe thead th {\n",
       "        text-align: right;\n",
       "    }\n",
       "</style>\n",
       "<table border=\"1\" class=\"dataframe\">\n",
       "  <thead>\n",
       "    <tr style=\"text-align: right;\">\n",
       "      <th></th>\n",
       "      <th>Unnamed: 0</th>\n",
       "      <th>Catatan_kredit</th>\n",
       "      <th>Utang</th>\n",
       "      <th>Jaminan</th>\n",
       "      <th>Pendapatan</th>\n",
       "      <th>Risiko</th>\n",
       "    </tr>\n",
       "  </thead>\n",
       "  <tbody>\n",
       "    <tr>\n",
       "      <th>0</th>\n",
       "      <td>1</td>\n",
       "      <td>buruk</td>\n",
       "      <td>rendah</td>\n",
       "      <td>tidak_ada</td>\n",
       "      <td>0-15</td>\n",
       "      <td>tinggi</td>\n",
       "    </tr>\n",
       "    <tr>\n",
       "      <th>1</th>\n",
       "      <td>2</td>\n",
       "      <td>tidak_diketahui</td>\n",
       "      <td>tinggi</td>\n",
       "      <td>tidak_ada</td>\n",
       "      <td>15-35</td>\n",
       "      <td>tinggi</td>\n",
       "    </tr>\n",
       "    <tr>\n",
       "      <th>2</th>\n",
       "      <td>3</td>\n",
       "      <td>tidak_diketahui</td>\n",
       "      <td>rendah</td>\n",
       "      <td>tidak_ada</td>\n",
       "      <td>15-35</td>\n",
       "      <td>rendah</td>\n",
       "    </tr>\n",
       "    <tr>\n",
       "      <th>3</th>\n",
       "      <td>4</td>\n",
       "      <td>buruk</td>\n",
       "      <td>rendah</td>\n",
       "      <td>tidak_ada</td>\n",
       "      <td>0-15</td>\n",
       "      <td>tinggi</td>\n",
       "    </tr>\n",
       "    <tr>\n",
       "      <th>4</th>\n",
       "      <td>5</td>\n",
       "      <td>tidak_diketahui</td>\n",
       "      <td>rendah</td>\n",
       "      <td>ada</td>\n",
       "      <td>&gt;35</td>\n",
       "      <td>rendah</td>\n",
       "    </tr>\n",
       "    <tr>\n",
       "      <th>...</th>\n",
       "      <td>...</td>\n",
       "      <td>...</td>\n",
       "      <td>...</td>\n",
       "      <td>...</td>\n",
       "      <td>...</td>\n",
       "      <td>...</td>\n",
       "    </tr>\n",
       "    <tr>\n",
       "      <th>115</th>\n",
       "      <td>116</td>\n",
       "      <td>baik</td>\n",
       "      <td>tinggi</td>\n",
       "      <td>ada</td>\n",
       "      <td>15-35</td>\n",
       "      <td>rendah</td>\n",
       "    </tr>\n",
       "    <tr>\n",
       "      <th>116</th>\n",
       "      <td>117</td>\n",
       "      <td>baik</td>\n",
       "      <td>tinggi</td>\n",
       "      <td>tidak_ada</td>\n",
       "      <td>15-35</td>\n",
       "      <td>rendah</td>\n",
       "    </tr>\n",
       "    <tr>\n",
       "      <th>117</th>\n",
       "      <td>118</td>\n",
       "      <td>baik</td>\n",
       "      <td>tinggi</td>\n",
       "      <td>ada</td>\n",
       "      <td>15-35</td>\n",
       "      <td>rendah</td>\n",
       "    </tr>\n",
       "    <tr>\n",
       "      <th>118</th>\n",
       "      <td>119</td>\n",
       "      <td>tidak_diketahui</td>\n",
       "      <td>rendah</td>\n",
       "      <td>tidak_ada</td>\n",
       "      <td>15-35</td>\n",
       "      <td>tinggi</td>\n",
       "    </tr>\n",
       "    <tr>\n",
       "      <th>119</th>\n",
       "      <td>120</td>\n",
       "      <td>baik</td>\n",
       "      <td>rendah</td>\n",
       "      <td>tidak_ada</td>\n",
       "      <td>15-35</td>\n",
       "      <td>tinggi</td>\n",
       "    </tr>\n",
       "  </tbody>\n",
       "</table>\n",
       "<p>120 rows × 6 columns</p>\n",
       "</div>"
      ],
      "text/plain": [
       "     Unnamed: 0   Catatan_kredit   Utang    Jaminan Pendapatan  Risiko\n",
       "0             1            buruk  rendah  tidak_ada       0-15  tinggi\n",
       "1             2  tidak_diketahui  tinggi  tidak_ada      15-35  tinggi\n",
       "2             3  tidak_diketahui  rendah  tidak_ada      15-35  rendah\n",
       "3             4            buruk  rendah  tidak_ada       0-15  tinggi\n",
       "4             5  tidak_diketahui  rendah        ada        >35  rendah\n",
       "..          ...              ...     ...        ...        ...     ...\n",
       "115         116             baik  tinggi        ada      15-35  rendah\n",
       "116         117             baik  tinggi  tidak_ada      15-35  rendah\n",
       "117         118             baik  tinggi        ada      15-35  rendah\n",
       "118         119  tidak_diketahui  rendah  tidak_ada      15-35  tinggi\n",
       "119         120             baik  rendah  tidak_ada      15-35  tinggi\n",
       "\n",
       "[120 rows x 6 columns]"
      ]
     },
     "execution_count": 2,
     "metadata": {},
     "output_type": "execute_result"
    }
   ],
   "source": [
    "df = pd.read_excel('Data/credit.xlsx')\n",
    "df"
   ]
  },
  {
   "cell_type": "code",
   "execution_count": 3,
   "id": "96e45f91",
   "metadata": {},
   "outputs": [
    {
     "data": {
      "text/html": [
       "<div>\n",
       "<style scoped>\n",
       "    .dataframe tbody tr th:only-of-type {\n",
       "        vertical-align: middle;\n",
       "    }\n",
       "\n",
       "    .dataframe tbody tr th {\n",
       "        vertical-align: top;\n",
       "    }\n",
       "\n",
       "    .dataframe thead th {\n",
       "        text-align: right;\n",
       "    }\n",
       "</style>\n",
       "<table border=\"1\" class=\"dataframe\">\n",
       "  <thead>\n",
       "    <tr style=\"text-align: right;\">\n",
       "      <th></th>\n",
       "      <th>Catatan_kredit</th>\n",
       "      <th>Utang</th>\n",
       "      <th>Jaminan</th>\n",
       "      <th>Pendapatan</th>\n",
       "      <th>Risiko</th>\n",
       "    </tr>\n",
       "  </thead>\n",
       "  <tbody>\n",
       "    <tr>\n",
       "      <th>0</th>\n",
       "      <td>buruk</td>\n",
       "      <td>rendah</td>\n",
       "      <td>tidak_ada</td>\n",
       "      <td>0-15</td>\n",
       "      <td>tinggi</td>\n",
       "    </tr>\n",
       "    <tr>\n",
       "      <th>1</th>\n",
       "      <td>tidak_diketahui</td>\n",
       "      <td>tinggi</td>\n",
       "      <td>tidak_ada</td>\n",
       "      <td>15-35</td>\n",
       "      <td>tinggi</td>\n",
       "    </tr>\n",
       "    <tr>\n",
       "      <th>2</th>\n",
       "      <td>tidak_diketahui</td>\n",
       "      <td>rendah</td>\n",
       "      <td>tidak_ada</td>\n",
       "      <td>15-35</td>\n",
       "      <td>rendah</td>\n",
       "    </tr>\n",
       "    <tr>\n",
       "      <th>3</th>\n",
       "      <td>buruk</td>\n",
       "      <td>rendah</td>\n",
       "      <td>tidak_ada</td>\n",
       "      <td>0-15</td>\n",
       "      <td>tinggi</td>\n",
       "    </tr>\n",
       "    <tr>\n",
       "      <th>4</th>\n",
       "      <td>tidak_diketahui</td>\n",
       "      <td>rendah</td>\n",
       "      <td>ada</td>\n",
       "      <td>&gt;35</td>\n",
       "      <td>rendah</td>\n",
       "    </tr>\n",
       "    <tr>\n",
       "      <th>...</th>\n",
       "      <td>...</td>\n",
       "      <td>...</td>\n",
       "      <td>...</td>\n",
       "      <td>...</td>\n",
       "      <td>...</td>\n",
       "    </tr>\n",
       "    <tr>\n",
       "      <th>115</th>\n",
       "      <td>baik</td>\n",
       "      <td>tinggi</td>\n",
       "      <td>ada</td>\n",
       "      <td>15-35</td>\n",
       "      <td>rendah</td>\n",
       "    </tr>\n",
       "    <tr>\n",
       "      <th>116</th>\n",
       "      <td>baik</td>\n",
       "      <td>tinggi</td>\n",
       "      <td>tidak_ada</td>\n",
       "      <td>15-35</td>\n",
       "      <td>rendah</td>\n",
       "    </tr>\n",
       "    <tr>\n",
       "      <th>117</th>\n",
       "      <td>baik</td>\n",
       "      <td>tinggi</td>\n",
       "      <td>ada</td>\n",
       "      <td>15-35</td>\n",
       "      <td>rendah</td>\n",
       "    </tr>\n",
       "    <tr>\n",
       "      <th>118</th>\n",
       "      <td>tidak_diketahui</td>\n",
       "      <td>rendah</td>\n",
       "      <td>tidak_ada</td>\n",
       "      <td>15-35</td>\n",
       "      <td>tinggi</td>\n",
       "    </tr>\n",
       "    <tr>\n",
       "      <th>119</th>\n",
       "      <td>baik</td>\n",
       "      <td>rendah</td>\n",
       "      <td>tidak_ada</td>\n",
       "      <td>15-35</td>\n",
       "      <td>tinggi</td>\n",
       "    </tr>\n",
       "  </tbody>\n",
       "</table>\n",
       "<p>120 rows × 5 columns</p>\n",
       "</div>"
      ],
      "text/plain": [
       "      Catatan_kredit   Utang    Jaminan Pendapatan  Risiko\n",
       "0              buruk  rendah  tidak_ada       0-15  tinggi\n",
       "1    tidak_diketahui  tinggi  tidak_ada      15-35  tinggi\n",
       "2    tidak_diketahui  rendah  tidak_ada      15-35  rendah\n",
       "3              buruk  rendah  tidak_ada       0-15  tinggi\n",
       "4    tidak_diketahui  rendah        ada        >35  rendah\n",
       "..               ...     ...        ...        ...     ...\n",
       "115             baik  tinggi        ada      15-35  rendah\n",
       "116             baik  tinggi  tidak_ada      15-35  rendah\n",
       "117             baik  tinggi        ada      15-35  rendah\n",
       "118  tidak_diketahui  rendah  tidak_ada      15-35  tinggi\n",
       "119             baik  rendah  tidak_ada      15-35  tinggi\n",
       "\n",
       "[120 rows x 5 columns]"
      ]
     },
     "execution_count": 3,
     "metadata": {},
     "output_type": "execute_result"
    }
   ],
   "source": [
    "df = df.loc[:, ~df.columns.str.contains('^Unnamed')]\n",
    "df"
   ]
  },
  {
   "cell_type": "code",
   "execution_count": 4,
   "id": "a0b30d00",
   "metadata": {
    "scrolled": true
   },
   "outputs": [
    {
     "name": "stdout",
     "output_type": "stream",
     "text": [
      "<class 'pandas.core.frame.DataFrame'>\n",
      "RangeIndex: 120 entries, 0 to 119\n",
      "Data columns (total 5 columns):\n",
      " #   Column          Non-Null Count  Dtype \n",
      "---  ------          --------------  ----- \n",
      " 0   Catatan_kredit  120 non-null    object\n",
      " 1   Utang           120 non-null    object\n",
      " 2   Jaminan         120 non-null    object\n",
      " 3   Pendapatan      120 non-null    object\n",
      " 4   Risiko          120 non-null    object\n",
      "dtypes: object(5)\n",
      "memory usage: 4.8+ KB\n"
     ]
    }
   ],
   "source": [
    "df.info()"
   ]
  },
  {
   "cell_type": "code",
   "execution_count": 5,
   "id": "4263f5f8",
   "metadata": {},
   "outputs": [
    {
     "data": {
      "text/plain": [
       "Catatan_kredit    0\n",
       "Utang             0\n",
       "Jaminan           0\n",
       "Pendapatan        0\n",
       "Risiko            0\n",
       "dtype: int64"
      ]
     },
     "execution_count": 5,
     "metadata": {},
     "output_type": "execute_result"
    }
   ],
   "source": [
    "df.isna().sum()"
   ]
  },
  {
   "cell_type": "code",
   "execution_count": 6,
   "id": "3e2fbf3f",
   "metadata": {
    "scrolled": true
   },
   "outputs": [
    {
     "name": "stdout",
     "output_type": "stream",
     "text": [
      "     Catatan_kredit  Utang  Jaminan  Pendapatan  Risiko\n",
      "0                 1      0        1           0  tinggi\n",
      "1                 2      1        1           1  tinggi\n",
      "2                 2      0        1           1  rendah\n",
      "3                 1      0        1           0  tinggi\n",
      "4                 2      0        0           2  rendah\n",
      "..              ...    ...      ...         ...     ...\n",
      "115               0      1        0           1  rendah\n",
      "116               0      1        1           1  rendah\n",
      "117               0      1        0           1  rendah\n",
      "118               2      0        1           1  tinggi\n",
      "119               0      0        1           1  tinggi\n",
      "\n",
      "[120 rows x 5 columns]\n"
     ]
    },
    {
     "name": "stderr",
     "output_type": "stream",
     "text": [
      "C:\\Users\\marsha\\AppData\\Local\\Temp\\ipykernel_13180\\791997051.py:9: SettingWithCopyWarning: \n",
      "A value is trying to be set on a copy of a slice from a DataFrame.\n",
      "Try using .loc[row_indexer,col_indexer] = value instead\n",
      "\n",
      "See the caveats in the documentation: https://pandas.pydata.org/pandas-docs/stable/user_guide/indexing.html#returning-a-view-versus-a-copy\n",
      "  df[column] = label_encoder.fit_transform(df[column])\n",
      "C:\\Users\\marsha\\AppData\\Local\\Temp\\ipykernel_13180\\791997051.py:9: SettingWithCopyWarning: \n",
      "A value is trying to be set on a copy of a slice from a DataFrame.\n",
      "Try using .loc[row_indexer,col_indexer] = value instead\n",
      "\n",
      "See the caveats in the documentation: https://pandas.pydata.org/pandas-docs/stable/user_guide/indexing.html#returning-a-view-versus-a-copy\n",
      "  df[column] = label_encoder.fit_transform(df[column])\n",
      "C:\\Users\\marsha\\AppData\\Local\\Temp\\ipykernel_13180\\791997051.py:9: SettingWithCopyWarning: \n",
      "A value is trying to be set on a copy of a slice from a DataFrame.\n",
      "Try using .loc[row_indexer,col_indexer] = value instead\n",
      "\n",
      "See the caveats in the documentation: https://pandas.pydata.org/pandas-docs/stable/user_guide/indexing.html#returning-a-view-versus-a-copy\n",
      "  df[column] = label_encoder.fit_transform(df[column])\n",
      "C:\\Users\\marsha\\AppData\\Local\\Temp\\ipykernel_13180\\791997051.py:9: SettingWithCopyWarning: \n",
      "A value is trying to be set on a copy of a slice from a DataFrame.\n",
      "Try using .loc[row_indexer,col_indexer] = value instead\n",
      "\n",
      "See the caveats in the documentation: https://pandas.pydata.org/pandas-docs/stable/user_guide/indexing.html#returning-a-view-versus-a-copy\n",
      "  df[column] = label_encoder.fit_transform(df[column])\n"
     ]
    }
   ],
   "source": [
    "from sklearn.preprocessing import LabelEncoder\n",
    "# Menggunakan LabelEncoder untuk beberapa kolom\n",
    "label_encoder = LabelEncoder()\n",
    "\n",
    "# Kolom yang ingin diubah\n",
    "columns_to_encode = ['Catatan_kredit', 'Utang', 'Jaminan', 'Pendapatan']\n",
    "\n",
    "for column in columns_to_encode:\n",
    "    df[column] = label_encoder.fit_transform(df[column])\n",
    "\n",
    "# Tampilkan hasil\n",
    "print(df)"
   ]
  },
  {
   "cell_type": "code",
   "execution_count": 7,
   "id": "dc03a0b8",
   "metadata": {},
   "outputs": [
    {
     "name": "stdout",
     "output_type": "stream",
     "text": [
      "<class 'pandas.core.frame.DataFrame'>\n",
      "RangeIndex: 120 entries, 0 to 119\n",
      "Data columns (total 5 columns):\n",
      " #   Column          Non-Null Count  Dtype \n",
      "---  ------          --------------  ----- \n",
      " 0   Catatan_kredit  120 non-null    int32 \n",
      " 1   Utang           120 non-null    int32 \n",
      " 2   Jaminan         120 non-null    int32 \n",
      " 3   Pendapatan      120 non-null    int32 \n",
      " 4   Risiko          120 non-null    object\n",
      "dtypes: int32(4), object(1)\n",
      "memory usage: 2.9+ KB\n"
     ]
    }
   ],
   "source": [
    "df.info()"
   ]
  },
  {
   "cell_type": "code",
   "execution_count": 8,
   "id": "8440f58d",
   "metadata": {},
   "outputs": [
    {
     "data": {
      "text/html": [
       "<div>\n",
       "<style scoped>\n",
       "    .dataframe tbody tr th:only-of-type {\n",
       "        vertical-align: middle;\n",
       "    }\n",
       "\n",
       "    .dataframe tbody tr th {\n",
       "        vertical-align: top;\n",
       "    }\n",
       "\n",
       "    .dataframe thead th {\n",
       "        text-align: right;\n",
       "    }\n",
       "</style>\n",
       "<table border=\"1\" class=\"dataframe\">\n",
       "  <thead>\n",
       "    <tr style=\"text-align: right;\">\n",
       "      <th></th>\n",
       "      <th>Catatan_kredit</th>\n",
       "      <th>Utang</th>\n",
       "      <th>Jaminan</th>\n",
       "      <th>Pendapatan</th>\n",
       "    </tr>\n",
       "  </thead>\n",
       "  <tbody>\n",
       "    <tr>\n",
       "      <th>count</th>\n",
       "      <td>120.000000</td>\n",
       "      <td>120.000000</td>\n",
       "      <td>120.000000</td>\n",
       "      <td>120.000000</td>\n",
       "    </tr>\n",
       "    <tr>\n",
       "      <th>mean</th>\n",
       "      <td>0.866667</td>\n",
       "      <td>0.516667</td>\n",
       "      <td>0.533333</td>\n",
       "      <td>1.150000</td>\n",
       "    </tr>\n",
       "    <tr>\n",
       "      <th>std</th>\n",
       "      <td>0.808914</td>\n",
       "      <td>0.501817</td>\n",
       "      <td>0.500979</td>\n",
       "      <td>0.752028</td>\n",
       "    </tr>\n",
       "    <tr>\n",
       "      <th>min</th>\n",
       "      <td>0.000000</td>\n",
       "      <td>0.000000</td>\n",
       "      <td>0.000000</td>\n",
       "      <td>0.000000</td>\n",
       "    </tr>\n",
       "    <tr>\n",
       "      <th>25%</th>\n",
       "      <td>0.000000</td>\n",
       "      <td>0.000000</td>\n",
       "      <td>0.000000</td>\n",
       "      <td>1.000000</td>\n",
       "    </tr>\n",
       "    <tr>\n",
       "      <th>50%</th>\n",
       "      <td>1.000000</td>\n",
       "      <td>1.000000</td>\n",
       "      <td>1.000000</td>\n",
       "      <td>1.000000</td>\n",
       "    </tr>\n",
       "    <tr>\n",
       "      <th>75%</th>\n",
       "      <td>2.000000</td>\n",
       "      <td>1.000000</td>\n",
       "      <td>1.000000</td>\n",
       "      <td>2.000000</td>\n",
       "    </tr>\n",
       "    <tr>\n",
       "      <th>max</th>\n",
       "      <td>2.000000</td>\n",
       "      <td>1.000000</td>\n",
       "      <td>1.000000</td>\n",
       "      <td>2.000000</td>\n",
       "    </tr>\n",
       "  </tbody>\n",
       "</table>\n",
       "</div>"
      ],
      "text/plain": [
       "       Catatan_kredit       Utang     Jaminan  Pendapatan\n",
       "count      120.000000  120.000000  120.000000  120.000000\n",
       "mean         0.866667    0.516667    0.533333    1.150000\n",
       "std          0.808914    0.501817    0.500979    0.752028\n",
       "min          0.000000    0.000000    0.000000    0.000000\n",
       "25%          0.000000    0.000000    0.000000    1.000000\n",
       "50%          1.000000    1.000000    1.000000    1.000000\n",
       "75%          2.000000    1.000000    1.000000    2.000000\n",
       "max          2.000000    1.000000    1.000000    2.000000"
      ]
     },
     "execution_count": 8,
     "metadata": {},
     "output_type": "execute_result"
    }
   ],
   "source": [
    "#Cek deskripsi stastik data\n",
    "df.describe()"
   ]
  },
  {
   "cell_type": "code",
   "execution_count": 9,
   "id": "37fa77fc",
   "metadata": {},
   "outputs": [
    {
     "name": "stdout",
     "output_type": "stream",
     "text": [
      "0    48\n",
      "1    40\n",
      "2    32\n",
      "Name: Catatan_kredit, dtype: int64\n",
      "----------------------------------------\n",
      "1    62\n",
      "0    58\n",
      "Name: Utang, dtype: int64\n",
      "----------------------------------------\n",
      "1    64\n",
      "0    56\n",
      "Name: Jaminan, dtype: int64\n",
      "----------------------------------------\n",
      "1    50\n",
      "2    44\n",
      "0    26\n",
      "Name: Pendapatan, dtype: int64\n",
      "----------------------------------------\n",
      "tinggi    62\n",
      "rendah    58\n",
      "Name: Risiko, dtype: int64\n",
      "----------------------------------------\n"
     ]
    }
   ],
   "source": [
    "\n",
    "# Making a list of all categorical variables\n",
    "cat_col = [\n",
    "    \"Catatan_kredit\",\n",
    "    \"Utang\",\n",
    "    \"Jaminan\",\n",
    "    \"Pendapatan\",\n",
    "    \"Risiko\",\n",
    "]\n",
    "\n",
    "# Printing number of count of each unique value in each column\n",
    "for column in cat_col:\n",
    "    print(df[column].value_counts())\n",
    "    print(\"-\" * 40)"
   ]
  },
  {
   "cell_type": "code",
   "execution_count": 10,
   "id": "37bbe99e",
   "metadata": {},
   "outputs": [
    {
     "data": {
      "image/png": "[encoded data removed]",
      "text/plain": [
       "<Figure size 1000x600 with 1 Axes>"
      ]
     },
     "metadata": {},
     "output_type": "display_data"
    }
   ],
   "source": [
    "#Target Variable Distribution\n",
    "plt.figure(figsize=(10, 6))\n",
    "sns.countplot(df, x=\"Risiko\")\n",
    "plt.title(\"Target Variable Distribution\", fontsize=20)\n",
    "plt.show()"
   ]
  },
  {
   "cell_type": "code",
   "execution_count": 11,
   "id": "f3f8c93e",
   "metadata": {},
   "outputs": [],
   "source": [
    "\n",
    "# Data Preparation for Modeling\n",
    "df = pd.DataFrame(df)\n",
    "X = df[['Catatan_kredit', 'Utang', 'Jaminan','Pendapatan']]\n",
    "y = df[\"Risiko\"]\n"
   ]
  },
  {
   "cell_type": "code",
   "execution_count": 12,
   "id": "d4c09cf4",
   "metadata": {
    "scrolled": true
   },
   "outputs": [
    {
     "name": "stdout",
     "output_type": "stream",
     "text": [
      "The Shape of the Train Set is:  (76, 4)\n",
      "The Shape of the Validation Set is:  (20, 4)\n",
      "The Shape of the Test Set is:  (24, 4)\n"
     ]
    }
   ],
   "source": [
    "# Splitting data into training, validation and test sets:\n",
    "# first we split data into 2 parts, say temporary and test\n",
    "\n",
    "X_temp, X_test, y_temp, y_test = train_test_split(\n",
    "    X, y, test_size=0.2, random_state=1, stratify=y\n",
    ")\n",
    "\n",
    "# then we split the temporary set into train and validation\n",
    "\n",
    "X_train, X_val, y_train, y_val = train_test_split(\n",
    "    X_temp, y_temp, test_size=0.2, random_state=1, stratify=y_temp\n",
    ")\n",
    "print(\"The Shape of the Train Set is: \", X_train.shape)\n",
    "print(\"The Shape of the Validation Set is: \", X_val.shape)\n",
    "print(\"The Shape of the Test Set is: \", X_test.shape)"
   ]
  },
  {
   "cell_type": "code",
   "execution_count": 13,
   "id": "358d5f72",
   "metadata": {},
   "outputs": [
    {
     "name": "stdout",
     "output_type": "stream",
     "text": [
      "Example entry of the Train Set:\n",
      " Catatan_kredit  Utang  Jaminan  Pendapatan\n",
      "              2      1        0           1\n",
      "              0      0        0           0\n",
      "              0      1        1           0\n",
      "              2      1        1           0\n",
      "              1      1        1           2\n",
      "\n",
      "Example entry of the Test Set:\n",
      " Catatan_kredit  Utang  Jaminan  Pendapatan\n",
      "              2      0        0           2\n",
      "              1      1        0           0\n",
      "              0      1        1           0\n",
      "              1      0        0           1\n",
      "              1      0        1           1\n",
      "\n",
      "Example entry of the Validation Set:\n",
      " Catatan_kredit  Utang  Jaminan  Pendapatan\n",
      "              0      1        0           1\n",
      "              1      0        1           1\n",
      "              0      1        0           1\n",
      "              2      1        0           2\n",
      "              0      1        0           1\n"
     ]
    }
   ],
   "source": [
    "# Define the dataframes for train, test, and validation sets\n",
    "train_df = pd.DataFrame(X_train.head(5))\n",
    "test_df = pd.DataFrame(X_test.head(5))\n",
    "val_df = pd.DataFrame(X_val.head(5))\n",
    "\n",
    "# Print the formatted table for the Train Set\n",
    "print(\"Example entry of the Train Set:\")\n",
    "print(train_df.to_string(index=False))\n",
    "print()\n",
    "\n",
    "# Print the formatted table for the Test Set\n",
    "print(\"Example entry of the Test Set:\")\n",
    "print(test_df.to_string(index=False))\n",
    "print()\n",
    "\n",
    "# Print the formatted table for the Validation Set\n",
    "print(\"Example entry of the Validation Set:\")\n",
    "print(val_df.to_string(index=False))\n"
   ]
  },
  {
   "cell_type": "code",
   "execution_count": 14,
   "id": "dcb09034",
   "metadata": {},
   "outputs": [
    {
     "name": "stdout",
     "output_type": "stream",
     "text": [
      "Accuracy: 0.625\n"
     ]
    }
   ],
   "source": [
    "from sklearn.feature_selection import SelectKBest, f_classif\n",
    "from sklearn.model_selection import train_test_split\n",
    "from sklearn.neighbors import KNeighborsClassifier\n",
    "from sklearn.metrics import accuracy_score\n",
    "\n",
    "# Misalkan X dan y adalah dataset kamu\n",
    "X_train, X_test, y_train, y_test = train_test_split(X, y, test_size=0.2, random_state=1)\n",
    "\n",
    "# Inisialisasi SelectKBest\n",
    "k_best = SelectKBest(f_classif, k=4)  # Sesuaikan k dengan jumlah fitur yang diinginkan\n",
    "\n",
    "# Fit dan transformasi pada data pelatihan\n",
    "X_train_selected = k_best.fit_transform(X_train, y_train)\n",
    "\n",
    "# Transformasi pada data pengujian\n",
    "X_test_selected = k_best.transform(X_test)\n",
    "\n",
    "# Inisialisasi model klasifikasi (contoh: KNeighborsClassifier)\n",
    "clf = KNeighborsClassifier()\n",
    "\n",
    "# Melatih model pada data yang telah diseleksi\n",
    "clf.fit(X_train_selected, y_train)\n",
    "\n",
    "# Prediksi pada data pengujian yang telah diseleksi\n",
    "y_pred = clf.predict(X_test_selected)\n",
    "\n",
    "# Evaluasi performa model\n",
    "accuracy = accuracy_score(y_test, y_pred)\n",
    "print(\"Accuracy:\", accuracy)\n"
   ]
  },
  {
   "cell_type": "code",
   "execution_count": 15,
   "id": "2d3b5424",
   "metadata": {},
   "outputs": [
    {
     "name": "stdout",
     "output_type": "stream",
     "text": [
      "     Actual Predicted\n",
      "95   rendah    tinggi\n",
      "54   rendah    rendah\n",
      "59   tinggi    rendah\n",
      "117  rendah    tinggi\n",
      "77   tinggi    tinggi\n",
      "46   rendah    tinggi\n",
      "31   tinggi    tinggi\n",
      "81   rendah    tinggi\n",
      "48   rendah    rendah\n",
      "98   rendah    rendah\n",
      "97   rendah    rendah\n",
      "99   rendah    tinggi\n",
      "2    rendah    tinggi\n",
      "92   rendah    rendah\n",
      "113  rendah    rendah\n",
      "56   tinggi    tinggi\n",
      "106  tinggi    rendah\n",
      "103  tinggi    tinggi\n",
      "67   tinggi    tinggi\n",
      "62   rendah    rendah\n",
      "112  rendah    rendah\n",
      "17   tinggi    tinggi\n",
      "83   tinggi    rendah\n",
      "108  tinggi    tinggi\n"
     ]
    }
   ],
   "source": [
    "# Menampilkan hasil nilai prediksi dan aktual menggunakan DataFrame\n",
    "results = pd.DataFrame({'Actual': y_test, 'Predicted': y_pred})\n",
    "print(results)"
   ]
  },
  {
   "cell_type": "code",
   "execution_count": 16,
   "id": "58af1ef5",
   "metadata": {},
   "outputs": [
    {
     "data": {
      "image/png": "[encoded data removed]",
      "text/plain": [
       "<Figure size 800x600 with 2 Axes>"
      ]
     },
     "metadata": {},
     "output_type": "display_data"
    },
    {
     "name": "stdout",
     "output_type": "stream",
     "text": [
      "Classification Report:\n",
      "              precision    recall  f1-score   support\n",
      "\n",
      "      rendah       0.73      0.57      0.64        14\n",
      "      tinggi       0.54      0.70      0.61        10\n",
      "\n",
      "    accuracy                           0.62        24\n",
      "   macro avg       0.63      0.64      0.62        24\n",
      "weighted avg       0.65      0.62      0.63        24\n",
      "\n"
     ]
    }
   ],
   "source": [
    "# Confusion Matrix\n",
    "cm = confusion_matrix(y_test, y_pred)\n",
    "\n",
    "# Heatmap untuk Confusion Matrix\n",
    "plt.figure(figsize=(8, 6))\n",
    "sns.heatmap(cm, annot=True, fmt=\"d\", cmap=\"Blues\", annot_kws={\"size\": 16})\n",
    "plt.title(\"Confusion Matrix\")\n",
    "plt.xlabel(\"Predicted\")\n",
    "plt.ylabel(\"Actual\")\n",
    "plt.show()\n",
    "\n",
    "# Classification Report\n",
    "report = classification_report(y_test, y_pred)\n",
    "\n",
    "# Menampilkan Classification Report\n",
    "print(\"Classification Report:\")\n",
    "print(report)"
   ]
  },
  {
   "cell_type": "code",
   "execution_count": null,
   "id": "726476ba",
   "metadata": {},
   "outputs": [],
   "source": []
  }
 ],
 "metadata": {
  "kernelspec": {
   "display_name": "Python 3 (ipykernel)",
   "language": "python",
   "name": "python3"
  },
  "language_info": {
   "codemirror_mode": {
    "name": "ipython",
    "version": 3
   },
   "file_extension": ".py",
   "mimetype": "text/x-python",
   "name": "python",
   "nbconvert_exporter": "python",
   "pygments_lexer": "ipython3",
   "version": "3.11.4"
  }
 },
 "nbformat": 4,
 "nbformat_minor": 5
}
